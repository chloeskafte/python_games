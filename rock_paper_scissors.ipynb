{
 "cells": [
  {
   "cell_type": "code",
   "execution_count": 13,
   "id": "7af73851-889c-46dc-99b7-3367ade14ea1",
   "metadata": {},
   "outputs": [],
   "source": [
    "#! /usr/bin/env python3\n",
    "\n",
    "# Code written from The Python Book: Linux User & Developer presents: Rock, Paper, Scissors: The Video Game\n",
    "\n",
    "import random\n",
    "import time\n",
    "\n",
    "rock = 1\n",
    "paper = 2\n",
    "scissors = 3\n",
    "\n",
    "names = { rock: \"Rock\", paper: \"Paper\", scissors: \"Scissors\" }\n",
    "rules = {rock: scissors, paper: rock, scissors: paper}\n",
    "\n",
    "player_score = 0\n",
    "computer_score = 0"
   ]
  },
  {
   "cell_type": "code",
   "execution_count": 14,
   "id": "2cef33f1-373c-467f-91c4-69aa1dcf3544",
   "metadata": {},
   "outputs": [],
   "source": [
    "def start():\n",
    "    print(\"Let's play a game of Rock, Paper, Scissors.\")\n",
    "    while game():\n",
    "        pass\n",
    "    scores()\n",
    "\n",
    "def game():\n",
    "    player = move()\n",
    "    computer = random.randit(1,3)\n",
    "    result(player,computer)\n",
    "    return play_again()\n",
    "\n",
    "def move():\n",
    "    while True:\n",
    "        print()\n",
    "        player = raw_input(\"Rock = 1\\nPaper = 2\\nScissors = 3\\nMake a move: \")\n",
    "        try:\n",
    "            player = int(player)\n",
    "            if player in (1,2,3):\n",
    "                return player\n",
    "        except ValueError:\n",
    "            pass\n",
    "        print(\"Oops! I didn't understand that. Please enter 1, 2, or 3.\")"
   ]
  },
  {
   "cell_type": "code",
   "execution_count": 15,
   "id": "53577892-a76b-4850-9cae-79ded676c1cf",
   "metadata": {},
   "outputs": [],
   "source": [
    "def result (player, compute):\n",
    "    print(\"1...\")\n",
    "    time.sleep(1)\n",
    "    print(\"2...\")\n",
    "    time.sleep(1)\n",
    "    print(\"3...\")\n",
    "    time.sleep(0.5)\n",
    "    print(\"Computer threw {0}!\".format(names)[computer])\n",
    "    global player_score, computer_score\n",
    "    if player == computer:\n",
    "        print(\"Tie!\")\n",
    "    else:\n",
    "        if rules[player] == computer:\n",
    "            print(\"You won!\")\n",
    "            player_score += 1\n",
    "        else:\n",
    "            print(\"The computer defeated you!\")\n",
    "            computer += 1\n",
    "    "
   ]
  },
  {
   "cell_type": "code",
   "execution_count": 17,
   "id": "252a4c25-c4f7-4e25-bbaf-263c2ae1818b",
   "metadata": {},
   "outputs": [
    {
     "name": "stdout",
     "output_type": "stream",
     "text": [
      "Let's play a game of Rock, Paper, Scissors.\n",
      "\n"
     ]
    },
    {
     "ename": "NameError",
     "evalue": "name 'raw_input' is not defined",
     "output_type": "error",
     "traceback": [
      "\u001b[0;31m---------------------------------------------------------------------------\u001b[0m",
      "\u001b[0;31mNameError\u001b[0m                                 Traceback (most recent call last)",
      "Cell \u001b[0;32mIn[17], line 15\u001b[0m\n\u001b[1;32m     12\u001b[0m     \u001b[38;5;28mprint\u001b[39m(\u001b[38;5;124m\"\u001b[39m\u001b[38;5;124mComputer: \u001b[39m\u001b[38;5;124m\"\u001b[39m), computer_score\n\u001b[1;32m     14\u001b[0m \u001b[38;5;28;01mif\u001b[39;00m \u001b[38;5;18m__name__\u001b[39m \u001b[38;5;241m==\u001b[39m \u001b[38;5;124m\"\u001b[39m\u001b[38;5;124m__main__\u001b[39m\u001b[38;5;124m\"\u001b[39m:\n\u001b[0;32m---> 15\u001b[0m     \u001b[43mstart\u001b[49m\u001b[43m(\u001b[49m\u001b[43m)\u001b[49m\n",
      "Cell \u001b[0;32mIn[14], line 3\u001b[0m, in \u001b[0;36mstart\u001b[0;34m()\u001b[0m\n\u001b[1;32m      1\u001b[0m \u001b[38;5;28;01mdef\u001b[39;00m \u001b[38;5;21mstart\u001b[39m():\n\u001b[1;32m      2\u001b[0m     \u001b[38;5;28mprint\u001b[39m(\u001b[38;5;124m\"\u001b[39m\u001b[38;5;124mLet\u001b[39m\u001b[38;5;124m'\u001b[39m\u001b[38;5;124ms play a game of Rock, Paper, Scissors.\u001b[39m\u001b[38;5;124m\"\u001b[39m)\n\u001b[0;32m----> 3\u001b[0m     \u001b[38;5;28;01mwhile\u001b[39;00m \u001b[43mgame\u001b[49m\u001b[43m(\u001b[49m\u001b[43m)\u001b[49m:\n\u001b[1;32m      4\u001b[0m         \u001b[38;5;28;01mpass\u001b[39;00m\n\u001b[1;32m      5\u001b[0m     scores()\n",
      "Cell \u001b[0;32mIn[14], line 8\u001b[0m, in \u001b[0;36mgame\u001b[0;34m()\u001b[0m\n\u001b[1;32m      7\u001b[0m \u001b[38;5;28;01mdef\u001b[39;00m \u001b[38;5;21mgame\u001b[39m():\n\u001b[0;32m----> 8\u001b[0m     player \u001b[38;5;241m=\u001b[39m \u001b[43mmove\u001b[49m\u001b[43m(\u001b[49m\u001b[43m)\u001b[49m\n\u001b[1;32m      9\u001b[0m     computer \u001b[38;5;241m=\u001b[39m random\u001b[38;5;241m.\u001b[39mrandit(\u001b[38;5;241m1\u001b[39m,\u001b[38;5;241m3\u001b[39m)\n\u001b[1;32m     10\u001b[0m     result(player,computer)\n",
      "Cell \u001b[0;32mIn[14], line 16\u001b[0m, in \u001b[0;36mmove\u001b[0;34m()\u001b[0m\n\u001b[1;32m     14\u001b[0m \u001b[38;5;28;01mwhile\u001b[39;00m \u001b[38;5;28;01mTrue\u001b[39;00m:\n\u001b[1;32m     15\u001b[0m     \u001b[38;5;28mprint\u001b[39m()\n\u001b[0;32m---> 16\u001b[0m     player \u001b[38;5;241m=\u001b[39m \u001b[43mraw_input\u001b[49m(\u001b[38;5;124m\"\u001b[39m\u001b[38;5;124mRock = 1\u001b[39m\u001b[38;5;130;01m\\n\u001b[39;00m\u001b[38;5;124mPaper = 2\u001b[39m\u001b[38;5;130;01m\\n\u001b[39;00m\u001b[38;5;124mScissors = 3\u001b[39m\u001b[38;5;130;01m\\n\u001b[39;00m\u001b[38;5;124mMake a move: \u001b[39m\u001b[38;5;124m\"\u001b[39m)\n\u001b[1;32m     17\u001b[0m     \u001b[38;5;28;01mtry\u001b[39;00m:\n\u001b[1;32m     18\u001b[0m         player \u001b[38;5;241m=\u001b[39m \u001b[38;5;28mint\u001b[39m(player)\n",
      "\u001b[0;31mNameError\u001b[0m: name 'raw_input' is not defined"
     ]
    }
   ],
   "source": [
    "def play_again():\n",
    "    answer = raw_input(\"Would you like to play again? y/n: \")\n",
    "    if answer in (\"y\", \"Y\", \"yes\", \"Yes\", \"Of course!\"):\n",
    "        return answer\n",
    "    else:\n",
    "        print(\"Thank you for playing, see you next time!\")\n",
    "\n",
    "def scores ():\n",
    "    global player_score, computer_score\n",
    "    print(\"HIGH SCORES\")\n",
    "    print(\"Player: \"), player_score\n",
    "    print(\"Computer: \"), computer_score\n",
    "\n",
    "if __name__ == \"__main__\":\n",
    "    start()"
   ]
  },
  {
   "cell_type": "code",
   "execution_count": null,
   "id": "e5b3125f-d53b-49af-8ddf-399695e9a978",
   "metadata": {},
   "outputs": [],
   "source": []
  }
 ],
 "metadata": {
  "kernelspec": {
   "display_name": "Python 3 (ipykernel)",
   "language": "python",
   "name": "python3"
  },
  "language_info": {
   "codemirror_mode": {
    "name": "ipython",
    "version": 3
   },
   "file_extension": ".py",
   "mimetype": "text/x-python",
   "name": "python",
   "nbconvert_exporter": "python",
   "pygments_lexer": "ipython3",
   "version": "3.12.6"
  }
 },
 "nbformat": 4,
 "nbformat_minor": 5
}
